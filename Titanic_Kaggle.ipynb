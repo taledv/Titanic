{
  "nbformat": 4,
  "nbformat_minor": 0,
  "metadata": {
    "colab": {
      "name": "Titanic_Kaggle.ipynb",
      "provenance": [],
      "include_colab_link": true
    },
    "kernelspec": {
      "name": "python3",
      "display_name": "Python 3"
    }
  },
  "cells": [
    {
      "cell_type": "markdown",
      "metadata": {
        "id": "view-in-github",
        "colab_type": "text"
      },
      "source": [
        "<a href=\"https://colab.research.google.com/github/taledv/Titanic/blob/main/Titanic_Kaggle.ipynb\" target=\"_parent\"><img src=\"https://colab.research.google.com/assets/colab-badge.svg\" alt=\"Open In Colab\"/></a>"
      ]
    },
    {
      "cell_type": "code",
      "metadata": {
        "id": "yrzij96V2-lr"
      },
      "source": [
        "import pandas as pd\n",
        "\n",
        "# 6 different classification algorithms :)\n",
        "from sklearn.tree import DecisionTreeClassifier\n",
        "from sklearn.ensemble import RandomForestClassifier, AdaBoostClassifier\n",
        "from sklearn.linear_model import LogisticRegression\n",
        "from sklearn.svm import SVC\n",
        "from xgboost import XGBClassifier\n",
        "\n",
        "from sklearn.model_selection import train_test_split, GridSearchCV\n",
        "from sklearn.metrics import make_scorer, accuracy_score, plot_confusion_matrix \n",
        "\n",
        "\n",
        "import seaborn as sns\n",
        "%matplotlib inline\n",
        "import warnings\n",
        "warnings.filterwarnings(\"ignore\")"
      ],
      "execution_count": 1,
      "outputs": []
    },
    {
      "cell_type": "code",
      "metadata": {
        "id": "kvbCeoV5zzWo",
        "colab": {
          "base_uri": "https://localhost:8080/",
          "height": 238
        },
        "outputId": "0ad284db-81bd-4775-d72b-9f4a10af1ae0"
      },
      "source": [
        "dfTrain = pd.read_csv('drive/MyDrive/Colab Notebooks/titanic/train.csv')\n",
        "dfTest = pd.read_csv('drive/MyDrive/Colab Notebooks/titanic/test.csv')\n",
        "\n",
        "print(dfTrain.shape)\n",
        "print(dfTest.shape)\n",
        "dfTrain.head()"
      ],
      "execution_count": 10,
      "outputs": [
        {
          "output_type": "stream",
          "text": [
            "(891, 12)\n",
            "(418, 11)\n"
          ],
          "name": "stdout"
        },
        {
          "output_type": "execute_result",
          "data": {
            "text/html": [
              "<div>\n",
              "<style scoped>\n",
              "    .dataframe tbody tr th:only-of-type {\n",
              "        vertical-align: middle;\n",
              "    }\n",
              "\n",
              "    .dataframe tbody tr th {\n",
              "        vertical-align: top;\n",
              "    }\n",
              "\n",
              "    .dataframe thead th {\n",
              "        text-align: right;\n",
              "    }\n",
              "</style>\n",
              "<table border=\"1\" class=\"dataframe\">\n",
              "  <thead>\n",
              "    <tr style=\"text-align: right;\">\n",
              "      <th></th>\n",
              "      <th>PassengerId</th>\n",
              "      <th>Survived</th>\n",
              "      <th>Pclass</th>\n",
              "      <th>Name</th>\n",
              "      <th>Sex</th>\n",
              "      <th>Age</th>\n",
              "      <th>SibSp</th>\n",
              "      <th>Parch</th>\n",
              "      <th>Ticket</th>\n",
              "      <th>Fare</th>\n",
              "      <th>Cabin</th>\n",
              "      <th>Embarked</th>\n",
              "    </tr>\n",
              "  </thead>\n",
              "  <tbody>\n",
              "    <tr>\n",
              "      <th>0</th>\n",
              "      <td>1</td>\n",
              "      <td>0</td>\n",
              "      <td>3</td>\n",
              "      <td>Braund, Mr. Owen Harris</td>\n",
              "      <td>male</td>\n",
              "      <td>22.0</td>\n",
              "      <td>1</td>\n",
              "      <td>0</td>\n",
              "      <td>A/5 21171</td>\n",
              "      <td>7.2500</td>\n",
              "      <td>NaN</td>\n",
              "      <td>S</td>\n",
              "    </tr>\n",
              "    <tr>\n",
              "      <th>1</th>\n",
              "      <td>2</td>\n",
              "      <td>1</td>\n",
              "      <td>1</td>\n",
              "      <td>Cumings, Mrs. John Bradley (Florence Briggs Th...</td>\n",
              "      <td>female</td>\n",
              "      <td>38.0</td>\n",
              "      <td>1</td>\n",
              "      <td>0</td>\n",
              "      <td>PC 17599</td>\n",
              "      <td>71.2833</td>\n",
              "      <td>C85</td>\n",
              "      <td>C</td>\n",
              "    </tr>\n",
              "    <tr>\n",
              "      <th>2</th>\n",
              "      <td>3</td>\n",
              "      <td>1</td>\n",
              "      <td>3</td>\n",
              "      <td>Heikkinen, Miss. Laina</td>\n",
              "      <td>female</td>\n",
              "      <td>26.0</td>\n",
              "      <td>0</td>\n",
              "      <td>0</td>\n",
              "      <td>STON/O2. 3101282</td>\n",
              "      <td>7.9250</td>\n",
              "      <td>NaN</td>\n",
              "      <td>S</td>\n",
              "    </tr>\n",
              "    <tr>\n",
              "      <th>3</th>\n",
              "      <td>4</td>\n",
              "      <td>1</td>\n",
              "      <td>1</td>\n",
              "      <td>Futrelle, Mrs. Jacques Heath (Lily May Peel)</td>\n",
              "      <td>female</td>\n",
              "      <td>35.0</td>\n",
              "      <td>1</td>\n",
              "      <td>0</td>\n",
              "      <td>113803</td>\n",
              "      <td>53.1000</td>\n",
              "      <td>C123</td>\n",
              "      <td>S</td>\n",
              "    </tr>\n",
              "    <tr>\n",
              "      <th>4</th>\n",
              "      <td>5</td>\n",
              "      <td>0</td>\n",
              "      <td>3</td>\n",
              "      <td>Allen, Mr. William Henry</td>\n",
              "      <td>male</td>\n",
              "      <td>35.0</td>\n",
              "      <td>0</td>\n",
              "      <td>0</td>\n",
              "      <td>373450</td>\n",
              "      <td>8.0500</td>\n",
              "      <td>NaN</td>\n",
              "      <td>S</td>\n",
              "    </tr>\n",
              "  </tbody>\n",
              "</table>\n",
              "</div>"
            ],
            "text/plain": [
              "   PassengerId  Survived  Pclass  ...     Fare Cabin  Embarked\n",
              "0            1         0       3  ...   7.2500   NaN         S\n",
              "1            2         1       1  ...  71.2833   C85         C\n",
              "2            3         1       3  ...   7.9250   NaN         S\n",
              "3            4         1       1  ...  53.1000  C123         S\n",
              "4            5         0       3  ...   8.0500   NaN         S\n",
              "\n",
              "[5 rows x 12 columns]"
            ]
          },
          "metadata": {
            "tags": []
          },
          "execution_count": 10
        }
      ]
    },
    {
      "cell_type": "markdown",
      "metadata": {
        "id": "FqRdLL03OnBJ"
      },
      "source": [
        "Checking which attributes contain nans (Train - Age,Cabin,Embarked, Test-Age,Fare, Cabin)"
      ]
    },
    {
      "cell_type": "code",
      "metadata": {
        "id": "DOn9tZh134N6"
      },
      "source": [
        "print(dfTrain.isnull().sum())\n",
        "print(dfTest.isnull().sum())"
      ],
      "execution_count": null,
      "outputs": []
    },
    {
      "cell_type": "markdown",
      "metadata": {
        "id": "RZ1iomRzPXlo"
      },
      "source": [
        "Train - Embarked only has 2 entries with nans so we just remove instead of impute\r\n"
      ]
    },
    {
      "cell_type": "code",
      "metadata": {
        "colab": {
          "base_uri": "https://localhost:8080/"
        },
        "id": "YQqr1dWWPhlX",
        "outputId": "e1e432d3-7dcd-40d3-ba03-cba01672dbd3"
      },
      "source": [
        "dfTrain.dropna(subset=['Embarked'], inplace=True)\r\n",
        "dfTrain.shape\r\n",
        "print(dfTrain.isnull().sum())"
      ],
      "execution_count": 21,
      "outputs": [
        {
          "output_type": "stream",
          "text": [
            "PassengerId      0\n",
            "Survived         0\n",
            "Pclass           0\n",
            "Name             0\n",
            "Sex              0\n",
            "Age            177\n",
            "SibSp            0\n",
            "Parch            0\n",
            "Ticket           0\n",
            "Fare             0\n",
            "Cabin          687\n",
            "Embarked         0\n",
            "dtype: int64\n"
          ],
          "name": "stdout"
        }
      ]
    },
    {
      "cell_type": "markdown",
      "metadata": {
        "id": "O8NT_-9wQq0c"
      },
      "source": [
        "Test - Fare only has 1 entry with nan so we just remove instead of impute\r\n"
      ]
    },
    {
      "cell_type": "code",
      "metadata": {
        "colab": {
          "base_uri": "https://localhost:8080/"
        },
        "id": "zSxq_ul7QilW",
        "outputId": "6cee9f5b-ea9a-4e00-e98f-d2f23a77cf9c"
      },
      "source": [
        "dfTest.dropna(subset=['Fare'], inplace=True)\r\n",
        "dfTest.shape\r\n",
        "print(dfTest.isnull().sum())"
      ],
      "execution_count": 22,
      "outputs": [
        {
          "output_type": "stream",
          "text": [
            "PassengerId      0\n",
            "Pclass           0\n",
            "Name             0\n",
            "Sex              0\n",
            "Age             86\n",
            "SibSp            0\n",
            "Parch            0\n",
            "Ticket           0\n",
            "Fare             0\n",
            "Cabin          326\n",
            "Embarked         0\n",
            "dtype: int64\n"
          ],
          "name": "stdout"
        }
      ]
    },
    {
      "cell_type": "markdown",
      "metadata": {
        "id": "LpaY4i2JD2Ul"
      },
      "source": [
        "Now only Age and Cabin have NaNs - need to fix it"
      ]
    },
    {
      "cell_type": "markdown",
      "metadata": {
        "id": "Z9P4Vp7kRL4P"
      },
      "source": [
        "First lets see how Age varies"
      ]
    },
    {
      "cell_type": "code",
      "metadata": {
        "id": "S5fiORBSD0O9",
        "colab": {
          "base_uri": "https://localhost:8080/",
          "height": 381
        },
        "outputId": "374ae07b-03f3-47da-9e2a-aac95029e301"
      },
      "source": [
        "sns.distplot(dfTrain[\"Age\"])"
      ],
      "execution_count": 11,
      "outputs": [
        {
          "output_type": "stream",
          "text": [
            "['S' 'C' 'Q' nan]\n"
          ],
          "name": "stdout"
        },
        {
          "output_type": "execute_result",
          "data": {
            "text/plain": [
              "Embarked\n",
              "C    168\n",
              "Q     77\n",
              "S    644\n",
              "dtype: int64"
            ]
          },
          "metadata": {
            "tags": []
          },
          "execution_count": 11
        },
        {
          "output_type": "display_data",
          "data": {
            "image/png": "[encoded data removed]",
            "text/plain": [
              "<Figure size 432x288 with 1 Axes>"
            ]
          },
          "metadata": {
            "tags": [],
            "needs_background": "light"
          }
        }
      ]
    },
    {
      "cell_type": "markdown",
      "metadata": {
        "id": "8JW5QLz8RUlG"
      },
      "source": [
        "Imputing Age both in Train and Test"
      ]
    },
    {
      "cell_type": "code",
      "metadata": {
        "id": "qRtdn-TaRX-3"
      },
      "source": [
        "dfTrain['Age'].fillna(dfTrain['Age'].mean(), inplace=True)\r\n",
        "dfTest['Age'].fillna(dfTest['Age'].mean(), inplace=True)"
      ],
      "execution_count": null,
      "outputs": []
    },
    {
      "cell_type": "markdown",
      "metadata": {
        "id": "FG0mkQp3CgP2"
      },
      "source": [
        "Droping columns"
      ]
    },
    {
      "cell_type": "code",
      "metadata": {
        "id": "375Hccb8Ca4w"
      },
      "source": [
        "dfTrain.drop(labels=['Ticket', 'Cabin','PassengerId', 'Name' ], axis=1, inplace=True)\n",
        "dfTest.drop(labels=['Ticket', 'Cabin','PassengerId', 'Name'], axis=1, inplace=True)"
      ],
      "execution_count": null,
      "outputs": []
    },
    {
      "cell_type": "markdown",
      "metadata": {
        "id": "5Ij41PfWDSNt"
      },
      "source": [
        "Making sure there are no NaNs now"
      ]
    },
    {
      "cell_type": "code",
      "metadata": {
        "id": "nNqbVub5DR6e"
      },
      "source": [
        "print(dfTrain.isnull().sum())\n",
        "print(dfTest.isnull().sum())"
      ],
      "execution_count": null,
      "outputs": []
    },
    {
      "cell_type": "markdown",
      "metadata": {
        "id": "pWj1N4tWtO3H"
      },
      "source": [
        "Dealing with categorical data (sex,embarked)"
      ]
    },
    {
      "cell_type": "code",
      "metadata": {
        "id": "F6Q2AOsatOOo"
      },
      "source": [
        "dfTrain['Sex'].replace(['male', 'female'], [0, 1], inplace=True)\n",
        "\n",
        "dfTrain_OneHot = pd.get_dummies(dfTrain, columns=['Embarked'])\n",
        "\n",
        "dfTest['Sex'].replace(['male', 'female'], [0, 1], inplace=True)\n",
        "\n",
        "dfTest_OneHot = pd.get_dummies(dfTest, columns=['Embarked'])"
      ],
      "execution_count": null,
      "outputs": []
    },
    {
      "cell_type": "markdown",
      "metadata": {
        "id": "X4J9lLaDuQo-"
      },
      "source": [
        "Checking the all categorical data are converted"
      ]
    },
    {
      "cell_type": "code",
      "metadata": {
        "id": "1N-fctKFuQCo"
      },
      "source": [
        "dfTrain_OneHot.head()"
      ],
      "execution_count": null,
      "outputs": []
    },
    {
      "cell_type": "code",
      "metadata": {
        "id": "LN4cMnvnBYPQ"
      },
      "source": [
        "ytrain = dfTrain_OneHot['Survived'].values\n",
        "Xtrain = dfTrain_OneHot.drop(labels=['Survived'], axis=1).copy()\n",
        "Xtest = dfTest_OneHot.copy()"
      ],
      "execution_count": null,
      "outputs": []
    },
    {
      "cell_type": "markdown",
      "metadata": {
        "id": "0Tywc5WGzznX"
      },
      "source": [
        "Checking new Dataframs are fine and ready for fitting"
      ]
    },
    {
      "cell_type": "code",
      "metadata": {
        "id": "xc-9KpU-zjdh"
      },
      "source": [
        "Xtrain.head()"
      ],
      "execution_count": null,
      "outputs": []
    },
    {
      "cell_type": "markdown",
      "metadata": {
        "id": "xEL-_EBzz8IZ"
      },
      "source": [
        "Creating validation set by splitting training"
      ]
    },
    {
      "cell_type": "code",
      "metadata": {
        "id": "y1nrL5Z3z5BJ"
      },
      "source": [
        "Xtraining, Xvalid, ytraining, yvalid = train_test_split(Xtrain, ytrain, test_size=0.2, random_state=0) \n",
        "print(Xtrain.shape)\n",
        "print(Xtraining.shape)\n",
        "print(Xvalid.shape)"
      ],
      "execution_count": null,
      "outputs": []
    },
    {
      "cell_type": "markdown",
      "metadata": {
        "id": "aRqzQTnOQtXG"
      },
      "source": [
        "Logistic regression"
      ]
    },
    {
      "cell_type": "code",
      "metadata": {
        "id": "mfZE7e8MQvDd",
        "colab": {
          "base_uri": "https://localhost:8080/",
          "height": 296
        },
        "outputId": "b761d2b4-a48d-4dfe-9323-adf1fdb3b620"
      },
      "source": [
        "lr_clf = LogisticRegression()\n",
        "lr_clf.fit(Xtraining, ytraining)\n",
        "pred_lr = lr_clf.predict(Xvalid)\n",
        "acc_lr = accuracy_score(yvalid, pred_lr)\n",
        "plot_confusion_matrix(lr_clf, Xvalid, yvalid)  \n",
        "print(acc_lr)"
      ],
      "execution_count": null,
      "outputs": [
        {
          "output_type": "stream",
          "text": [
            "0.8044692737430168\n"
          ],
          "name": "stdout"
        },
        {
          "output_type": "display_data",
          "data": {
            "image/png": "[encoded data removed]",
            "text/plain": [
              "<Figure size 432x288 with 2 Axes>"
            ]
          },
          "metadata": {
            "tags": [],
            "needs_background": "light"
          }
        }
      ]
    },
    {
      "cell_type": "markdown",
      "metadata": {
        "id": "nSN0bGtx22JO"
      },
      "source": [
        "Suppor vector machine model"
      ]
    },
    {
      "cell_type": "code",
      "metadata": {
        "id": "rsSo_mrs215n",
        "colab": {
          "base_uri": "https://localhost:8080/",
          "height": 296
        },
        "outputId": "e663a314-92f3-43c2-cfe4-8fdfea59802b"
      },
      "source": [
        "svc_clf = SVC() \n",
        "svc_clf.fit(Xtraining, ytraining)\n",
        "pred_svc = svc_clf.predict(Xvalid)\n",
        "acc_svc = accuracy_score(yvalid, pred_svc)\n",
        "plot_confusion_matrix(svc_clf, Xvalid, yvalid)  \n",
        "print(acc_svc)"
      ],
      "execution_count": null,
      "outputs": [
        {
          "output_type": "stream",
          "text": [
            "0.7206703910614525\n"
          ],
          "name": "stdout"
        },
        {
          "output_type": "display_data",
          "data": {
            "image/png": "[encoded data removed]",
            "text/plain": [
              "<Figure size 432x288 with 2 Axes>"
            ]
          },
          "metadata": {
            "tags": [],
            "needs_background": "light"
          }
        }
      ]
    },
    {
      "cell_type": "markdown",
      "metadata": {
        "id": "vA5obAY7H3I_"
      },
      "source": [
        "Decision Tree"
      ]
    },
    {
      "cell_type": "code",
      "metadata": {
        "id": "vwwtFNKPH_nW",
        "colab": {
          "base_uri": "https://localhost:8080/",
          "height": 300
        },
        "outputId": "2be3f5e9-7d61-4813-bf5d-2ff57d8c190b"
      },
      "source": [
        "dt_clf = DecisionTreeClassifier()\n",
        "dt_clf.fit(Xtraining, ytraining)\n",
        "pred_dt = dt_clf.predict(Xvalid)\n",
        "acc_dt = accuracy_score(yvalid, pred_dt)\n",
        "plot_confusion_matrix(dt_clf, Xvalid, yvalid)  \n",
        "print(acc_dt)"
      ],
      "execution_count": null,
      "outputs": [
        {
          "output_type": "stream",
          "text": [
            "0.7653631284916201\n"
          ],
          "name": "stdout"
        },
        {
          "output_type": "display_data",
          "data": {
            "image/png": "[encoded data removed]",
            "text/plain": [
              "<Figure size 432x288 with 2 Axes>"
            ]
          },
          "metadata": {
            "tags": [],
            "needs_background": "light"
          }
        }
      ]
    },
    {
      "cell_type": "markdown",
      "metadata": {
        "id": "HrY4SscARJx9"
      },
      "source": [
        "Random Foresets"
      ]
    },
    {
      "cell_type": "code",
      "metadata": {
        "id": "jSbVea-TRLjc",
        "colab": {
          "base_uri": "https://localhost:8080/",
          "height": 296
        },
        "outputId": "b1f23954-f131-4609-97c9-c60a60513b5a"
      },
      "source": [
        "rf_clf = RandomForestClassifier()\n",
        "rf_clf.fit(Xtraining, ytraining)\n",
        "pred_rf = rf_clf.predict(Xvalid)\n",
        "acc_rf = accuracy_score(yvalid, pred_rf)\n",
        "plot_confusion_matrix(rf_clf, Xvalid, yvalid)  \n",
        "print(acc_rf)"
      ],
      "execution_count": null,
      "outputs": [
        {
          "output_type": "stream",
          "text": [
            "0.8268156424581006\n"
          ],
          "name": "stdout"
        },
        {
          "output_type": "display_data",
          "data": {
            "image/png": "[encoded data removed]",
            "text/plain": [
              "<Figure size 432x288 with 2 Axes>"
            ]
          },
          "metadata": {
            "tags": [],
            "needs_background": "light"
          }
        }
      ]
    },
    {
      "cell_type": "markdown",
      "metadata": {
        "id": "rJTzl2KbRkaE"
      },
      "source": [
        "Adaboost"
      ]
    },
    {
      "cell_type": "code",
      "metadata": {
        "id": "25uHn2shRjvM",
        "colab": {
          "base_uri": "https://localhost:8080/",
          "height": 296
        },
        "outputId": "e09caa60-fbb1-4d8b-edaf-1bb0dd52b544"
      },
      "source": [
        "ada_clf = AdaBoostClassifier()\n",
        "ada_clf.fit(Xtraining, ytraining)\n",
        "pred_ada = ada_clf.predict(Xvalid)\n",
        "acc_ada = accuracy_score(yvalid, pred_ada)\n",
        "plot_confusion_matrix(ada_clf, Xvalid, yvalid)  \n",
        "print(acc_ada)"
      ],
      "execution_count": null,
      "outputs": [
        {
          "output_type": "stream",
          "text": [
            "0.8212290502793296\n"
          ],
          "name": "stdout"
        },
        {
          "output_type": "display_data",
          "data": {
            "image/png": "[encoded data removed]",
            "text/plain": [
              "<Figure size 432x288 with 2 Axes>"
            ]
          },
          "metadata": {
            "tags": [],
            "needs_background": "light"
          }
        }
      ]
    },
    {
      "cell_type": "markdown",
      "metadata": {
        "id": "XsPk1BabMMFC"
      },
      "source": [
        "XGBoost"
      ]
    },
    {
      "cell_type": "code",
      "metadata": {
        "id": "ttakcuJNMLDs",
        "colab": {
          "base_uri": "https://localhost:8080/",
          "height": 296
        },
        "outputId": "03d1d91c-cddf-4731-f9a0-63837e10331d"
      },
      "source": [
        "xgb_clf = XGBClassifier(objective=\"binary:logistic\", n_estimators=10, seed=123)\n",
        "xgb_clf.fit(Xtraining, ytraining)\n",
        "pred_xgb = xgb_clf.predict(Xvalid)\n",
        "acc_xgb = accuracy_score(yvalid, pred_xgb)\n",
        "plot_confusion_matrix(xgb_clf, Xvalid, yvalid)  \n",
        "print(acc_xgb)"
      ],
      "execution_count": null,
      "outputs": [
        {
          "output_type": "stream",
          "text": [
            "0.8156424581005587\n"
          ],
          "name": "stdout"
        },
        {
          "output_type": "display_data",
          "data": {
            "image/png": "[encoded data removed]",
            "text/plain": [
              "<Figure size 432x288 with 2 Axes>"
            ]
          },
          "metadata": {
            "tags": [],
            "needs_background": "light"
          }
        }
      ]
    },
    {
      "cell_type": "markdown",
      "metadata": {
        "id": "BMyGSN9Xzpy8"
      },
      "source": [
        "Combining all the models in one DF"
      ]
    },
    {
      "cell_type": "code",
      "metadata": {
        "id": "SBvx6u-VzubY",
        "colab": {
          "base_uri": "https://localhost:8080/",
          "height": 235
        },
        "outputId": "172208d3-7a9c-404e-a49e-1ba3ca10bd1f"
      },
      "source": [
        "models = pd.DataFrame({'Model': ['Logistic Regression', 'Decision tree', 'Random forests', 'SVC', 'Adaboost', 'XGBoost'], 'Accuracy': [acc_lr, acc_dt, acc_rf, acc_svc, acc_ada, acc_xgb]})\n",
        "models.sort_values(by='Accuracy', ascending=False)"
      ],
      "execution_count": null,
      "outputs": [
        {
          "output_type": "execute_result",
          "data": {
            "text/html": [
              "<div>\n",
              "<style scoped>\n",
              "    .dataframe tbody tr th:only-of-type {\n",
              "        vertical-align: middle;\n",
              "    }\n",
              "\n",
              "    .dataframe tbody tr th {\n",
              "        vertical-align: top;\n",
              "    }\n",
              "\n",
              "    .dataframe thead th {\n",
              "        text-align: right;\n",
              "    }\n",
              "</style>\n",
              "<table border=\"1\" class=\"dataframe\">\n",
              "  <thead>\n",
              "    <tr style=\"text-align: right;\">\n",
              "      <th></th>\n",
              "      <th>Model</th>\n",
              "      <th>Accuracy</th>\n",
              "    </tr>\n",
              "  </thead>\n",
              "  <tbody>\n",
              "    <tr>\n",
              "      <th>2</th>\n",
              "      <td>Random forests</td>\n",
              "      <td>0.826816</td>\n",
              "    </tr>\n",
              "    <tr>\n",
              "      <th>4</th>\n",
              "      <td>Adaboost</td>\n",
              "      <td>0.821229</td>\n",
              "    </tr>\n",
              "    <tr>\n",
              "      <th>5</th>\n",
              "      <td>XGBoost</td>\n",
              "      <td>0.815642</td>\n",
              "    </tr>\n",
              "    <tr>\n",
              "      <th>0</th>\n",
              "      <td>Logistic Regression</td>\n",
              "      <td>0.804469</td>\n",
              "    </tr>\n",
              "    <tr>\n",
              "      <th>1</th>\n",
              "      <td>Decision tree</td>\n",
              "      <td>0.765363</td>\n",
              "    </tr>\n",
              "    <tr>\n",
              "      <th>3</th>\n",
              "      <td>SVC</td>\n",
              "      <td>0.720670</td>\n",
              "    </tr>\n",
              "  </tbody>\n",
              "</table>\n",
              "</div>"
            ],
            "text/plain": [
              "                 Model  Accuracy\n",
              "2       Random forests  0.826816\n",
              "4             Adaboost  0.821229\n",
              "5              XGBoost  0.815642\n",
              "0  Logistic Regression  0.804469\n",
              "1        Decision tree  0.765363\n",
              "3                  SVC  0.720670"
            ]
          },
          "metadata": {
            "tags": []
          },
          "execution_count": 109
        }
      ]
    },
    {
      "cell_type": "markdown",
      "metadata": {
        "id": "xUgIWN4TUNK6"
      },
      "source": [
        "Using GridSearchCV to tune parameters in XGBoost"
      ]
    },
    {
      "cell_type": "code",
      "metadata": {
        "id": "oEtP43NlUQhv"
      },
      "source": [
        "xgb_clf = XGBClassifier()\n",
        "params = {'eta':[0.001,0.01, 0.1, 0.3, 1], 'max_depth':[3,5,7,9]}\n",
        "grid_xgb = GridSearchCV(xgb_clf, params, scoring = make_scorer(accuracy_score), verbose=2)\n",
        "grid_xgb = grid_xgb.fit(Xtraining, ytraining)\n",
        "grid_xgb.best_estimator_\n"
      ],
      "execution_count": null,
      "outputs": []
    },
    {
      "cell_type": "markdown",
      "metadata": {
        "id": "WDr1dcfwhYLd"
      },
      "source": [
        "Using GridSearchCV to tune parameters in RF"
      ]
    },
    {
      "cell_type": "code",
      "metadata": {
        "id": "oWJm-31Ed_t_"
      },
      "source": [
        "rf_clf = RandomForestClassifier()\n",
        "params = {\"n_estimators\": [4, 5, 6, 7, 8, 9, 10, 15], \n",
        "              \"criterion\": [\"gini\", \"entropy\"],\n",
        "              \"max_features\": [\"auto\", \"sqrt\", \"log2\"], \n",
        "              \"max_depth\": [2, 3, 5, 10], \n",
        "              \"min_samples_split\": [2, 3, 5, 10],\n",
        "              \"min_samples_leaf\": [1, 5, 8, 10]}\n",
        "grid_rf = GridSearchCV(rf_clf, params, scoring = make_scorer(accuracy_score), verbose=1)\n",
        "grid_rf = grid_rf.fit(Xtraining, ytraining)"
      ],
      "execution_count": null,
      "outputs": []
    },
    {
      "cell_type": "markdown",
      "metadata": {
        "id": "0sXTfs99gcPe"
      },
      "source": [
        "Evaluating the best Random forest"
      ]
    },
    {
      "cell_type": "code",
      "metadata": {
        "id": "dqD7y0wNgbpO",
        "colab": {
          "base_uri": "https://localhost:8080/",
          "height": 300
        },
        "outputId": "9d838bba-c47a-47f6-b9b3-231a23626b4f"
      },
      "source": [
        "best_rf = grid_rf.best_estimator_\n",
        "pred_best_rf = best_rf.predict(Xvalid)\n",
        "acc_best_rf = accuracy_score(yvalid, pred_best_rf)\n",
        "plot_confusion_matrix(best_rf, Xvalid, yvalid)  \n",
        "print(acc_best_rf)"
      ],
      "execution_count": null,
      "outputs": [
        {
          "output_type": "stream",
          "text": [
            "0.8212290502793296\n"
          ],
          "name": "stdout"
        },
        {
          "output_type": "display_data",
          "data": {
            "image/png": "[encoded data removed]",
            "text/plain": [
              "<Figure size 432x288 with 2 Axes>"
            ]
          },
          "metadata": {
            "tags": [],
            "needs_background": "light"
          }
        }
      ]
    },
    {
      "cell_type": "markdown",
      "metadata": {
        "id": "V2ygRFyNgJHu"
      },
      "source": [
        "Predicting ytest and submission"
      ]
    },
    {
      "cell_type": "code",
      "metadata": {
        "id": "-NeY5lExgItQ"
      },
      "source": [
        "test_pred = best_rf.predict(Xtest)\n",
        "\n",
        "submission = pd.DataFrame({\n",
        "        \"PassengerId\": dfTest[\"PassengerId\"],\n",
        "        \"Survived\": test_pred\n",
        "    })\n",
        "# submission.to_csv('../output/submission.csv', index=False)\n"
      ],
      "execution_count": null,
      "outputs": []
    }
  ]
}